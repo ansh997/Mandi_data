{
 "cells": [
  {
   "cell_type": "code",
   "execution_count": 1,
   "metadata": {},
   "outputs": [],
   "source": [
    "import numpy as np\n",
    "import pandas as pd\n",
    "import matplotlib.pyplot as plt\n",
    "import seaborn as sns"
   ]
  },
  {
   "cell_type": "code",
   "execution_count": 2,
   "metadata": {},
   "outputs": [
    {
     "data": {
      "text/html": [
       "<div>\n",
       "<style scoped>\n",
       "    .dataframe tbody tr th:only-of-type {\n",
       "        vertical-align: middle;\n",
       "    }\n",
       "\n",
       "    .dataframe tbody tr th {\n",
       "        vertical-align: top;\n",
       "    }\n",
       "\n",
       "    .dataframe thead th {\n",
       "        text-align: right;\n",
       "    }\n",
       "</style>\n",
       "<table border=\"1\" class=\"dataframe\">\n",
       "  <thead>\n",
       "    <tr style=\"text-align: right;\">\n",
       "      <th></th>\n",
       "      <th>commodity</th>\n",
       "      <th>year</th>\n",
       "      <th>Type</th>\n",
       "      <th>msprice</th>\n",
       "      <th>msp_filter</th>\n",
       "    </tr>\n",
       "  </thead>\n",
       "  <tbody>\n",
       "    <tr>\n",
       "      <th>0</th>\n",
       "      <td>PADDY-UNHUSKED</td>\n",
       "      <td>2012</td>\n",
       "      <td>Kharif Crops</td>\n",
       "      <td>1250.0</td>\n",
       "      <td>1</td>\n",
       "    </tr>\n",
       "    <tr>\n",
       "      <th>1</th>\n",
       "      <td>RICE(PADDY-HUS)</td>\n",
       "      <td>2012</td>\n",
       "      <td>Kharif Crops</td>\n",
       "      <td>1280.0</td>\n",
       "      <td>1</td>\n",
       "    </tr>\n",
       "    <tr>\n",
       "      <th>2</th>\n",
       "      <td>Jowar_Hybrid</td>\n",
       "      <td>2012</td>\n",
       "      <td>Kharif Crops</td>\n",
       "      <td>1500.0</td>\n",
       "      <td>1</td>\n",
       "    </tr>\n",
       "    <tr>\n",
       "      <th>3</th>\n",
       "      <td>SORGUM(JAWAR)</td>\n",
       "      <td>2012</td>\n",
       "      <td>Kharif Crops</td>\n",
       "      <td>1520.0</td>\n",
       "      <td>1</td>\n",
       "    </tr>\n",
       "    <tr>\n",
       "      <th>4</th>\n",
       "      <td>BAJRI</td>\n",
       "      <td>2012</td>\n",
       "      <td>Kharif Crops</td>\n",
       "      <td>1175.0</td>\n",
       "      <td>1</td>\n",
       "    </tr>\n",
       "  </tbody>\n",
       "</table>\n",
       "</div>"
      ],
      "text/plain": [
       "         commodity  year          Type  msprice  msp_filter\n",
       "0   PADDY-UNHUSKED  2012  Kharif Crops   1250.0           1\n",
       "1  RICE(PADDY-HUS)  2012  Kharif Crops   1280.0           1\n",
       "2     Jowar_Hybrid  2012  Kharif Crops   1500.0           1\n",
       "3    SORGUM(JAWAR)  2012  Kharif Crops   1520.0           1\n",
       "4            BAJRI  2012  Kharif Crops   1175.0           1"
      ]
     },
     "execution_count": 2,
     "metadata": {},
     "output_type": "execute_result"
    }
   ],
   "source": [
    "data = pd.read_csv(\"./CMO_MSP_Mandi.csv\")\n",
    "data.head()"
   ]
  },
  {
   "cell_type": "code",
   "execution_count": 3,
   "metadata": {},
   "outputs": [
    {
     "name": "stdout",
     "output_type": "stream",
     "text": [
      "[1]\n",
      "----------------------------------------\n",
      "['Kharif Crops' 'Rabi Crops' 'Other Crops']\n",
      "----------------------------------------\n",
      "[2012 2013 2014 2015 2016]\n",
      "----------------------------------------\n",
      "['PADDY-UNHUSKED' 'RICE(PADDY-HUS)' 'Jowar_Hybrid' 'SORGUM(JAWAR)' 'BAJRI'\n",
      " 'MAIZE' 'Ragi_Maldandi' 'PIGEON PEA (TUR)' 'SPILT GERRN GRAM'\n",
      " 'SPLIT BLACK GRAM' 'COTTON' 'Cotton_Long Staple' 'GR.NUT KERNELS'\n",
      " 'SUNFLOWER' 'Soyabean_Black' 'SOYABEAN' 'SESAMUM' 'NIGER-SEED'\n",
      " 'WHEAT(HUSKED)' 'WHEAT(UNHUSKED)' 'BARLI' 'Gram_Yellow' 'Masur_Yellow'\n",
      " 'MUSTARD' 'SAFFLOWER' 'Toria_Yellow' 'Copra (Milling)_Yellow'\n",
      " 'Copra (Ball)_Yellow' 'COCONUT' 'Jute_Yellow' 'SUGAR-CANE' 'SUGARCANE']\n",
      "----------------------------------------\n",
      "[ 1250.  1280.  1500.  1520.  1175.  3850.  4400.  4300.  3600.  3900.\n",
      "  3700.  2200.  2240.  4200.  3500.  1350.   980.  3000.  2900.  2800.\n",
      "  2970.  5100.  5350.  1400.   170.  1310.  1345.  4500.  4000.  2500.\n",
      "  2560.  1100.  3100.  2950.  3050.  3020.  5250.  5500.  1425.  2300.\n",
      "   210.  1360.  1530.  1550.  4350.  4600.  3750.  4050.  1450.  1150.\n",
      "  3175.  3075.  2400.   220.  1410.  1570.  1590.  1275.  1325.  1650.\n",
      "  4425.  4650.  3800.  4100.  4030.    nan  2600.  4700.  3650.  1525.\n",
      "  1225.  3425.  3325.  3350.  3300.  3290.  5550.  5830.  2700.   230.\n",
      "  1470.  1510.  1625.  1330.  1365.  1725.  4625.  4800.  4575.  3860.\n",
      "  4160.  4120.  2675.  3725.  5950.  6240.  1600.  3200.]\n"
     ]
    }
   ],
   "source": [
    "print(data['msp_filter'].unique())\n",
    "print(\"-\"*40)\n",
    "print(data['Type'].unique())\n",
    "print(\"-\"*40)\n",
    "print(data['year'].unique())\n",
    "print(\"-\"*40)\n",
    "print(data['commodity'].unique())\n",
    "print(\"-\"*40)\n",
    "print(data['msprice'].unique())"
   ]
  },
  {
   "cell_type": "code",
   "execution_count": 4,
   "metadata": {},
   "outputs": [
    {
     "name": "stdout",
     "output_type": "stream",
     "text": [
      "<class 'pandas.core.frame.DataFrame'>\n",
      "RangeIndex: 155 entries, 0 to 154\n",
      "Data columns (total 5 columns):\n",
      "commodity     155 non-null object\n",
      "year          155 non-null int64\n",
      "Type          155 non-null object\n",
      "msprice       145 non-null float64\n",
      "msp_filter    155 non-null int64\n",
      "dtypes: float64(1), int64(2), object(2)\n",
      "memory usage: 6.1+ KB\n"
     ]
    }
   ],
   "source": [
    "data.info()"
   ]
  },
  {
   "cell_type": "code",
   "execution_count": 5,
   "metadata": {},
   "outputs": [],
   "source": [
    "#data['year'] = pd.to_datetime(data['year'])"
   ]
  },
  {
   "cell_type": "code",
   "execution_count": 6,
   "metadata": {},
   "outputs": [
    {
     "data": {
      "text/plain": [
       "True"
      ]
     },
     "execution_count": 6,
     "metadata": {},
     "output_type": "execute_result"
    }
   ],
   "source": [
    "data['msprice'].isnull().values.any()"
   ]
  },
  {
   "cell_type": "markdown",
   "metadata": {},
   "source": [
    "msprice contains null value"
   ]
  },
  {
   "cell_type": "code",
   "execution_count": 7,
   "metadata": {},
   "outputs": [],
   "source": [
    "from sklearn.linear_model import LinearRegression\n",
    "linreg = LinearRegression()"
   ]
  },
  {
   "cell_type": "code",
   "execution_count": 8,
   "metadata": {},
   "outputs": [],
   "source": [
    "data_without_null = data.dropna()"
   ]
  },
  {
   "cell_type": "code",
   "execution_count": 9,
   "metadata": {},
   "outputs": [
    {
     "name": "stdout",
     "output_type": "stream",
     "text": [
      "<class 'pandas.core.frame.DataFrame'>\n",
      "Int64Index: 145 entries, 0 to 154\n",
      "Data columns (total 5 columns):\n",
      "commodity     145 non-null object\n",
      "year          145 non-null int64\n",
      "Type          145 non-null object\n",
      "msprice       145 non-null float64\n",
      "msp_filter    145 non-null int64\n",
      "dtypes: float64(1), int64(2), object(2)\n",
      "memory usage: 6.8+ KB\n"
     ]
    }
   ],
   "source": [
    "data_without_null.info()"
   ]
  },
  {
   "cell_type": "code",
   "execution_count": 10,
   "metadata": {},
   "outputs": [
    {
     "data": {
      "text/plain": [
       "'from sklearn.preprocessing import Imputer\\nmy_imputer = Imputer()\\ndata_with_imputed_values = my_imputer.fit_transform(data)'"
      ]
     },
     "execution_count": 10,
     "metadata": {},
     "output_type": "execute_result"
    }
   ],
   "source": [
    "\"\"\"from sklearn.preprocessing import Imputer\n",
    "my_imputer = Imputer()\n",
    "data_with_imputed_values = my_imputer.fit_transform(data)\"\"\""
   ]
  },
  {
   "cell_type": "code",
   "execution_count": 11,
   "metadata": {},
   "outputs": [],
   "source": [
    "data['Type'] = data['Type'].map( {'Kharif Crops':2, 'Rabi Crops':1, 'Other Crops':0} ).astype(int)"
   ]
  },
  {
   "cell_type": "markdown",
   "metadata": {},
   "source": [
    "**Type Mapping:**\n",
    "    'Kharif Crops':2, 'Rabi Crops':1, 'Other Crops':0"
   ]
  },
  {
   "cell_type": "code",
   "execution_count": 12,
   "metadata": {},
   "outputs": [],
   "source": [
    "data['commodity'] = data['commodity'].map( {'PADDY-UNHUSKED':0, 'RICE(PADDY-HUS)':1, 'Jowar_Hybrid':2, 'SORGUM(JAWAR)':3, 'BAJRI':4,\n",
    " 'MAIZE':5, 'Ragi_Maldandi': 6, 'PIGEON PEA (TUR)':7, 'SPILT GERRN GRAM':8,\n",
    " 'SPLIT BLACK GRAM':9, 'COTTON':10, 'Cotton_Long Staple':11, 'GR.NUT KERNELS':12,\n",
    " 'SUNFLOWER':13, 'Soyabean_Black':14, 'SOYABEAN':15, 'SESAMUM':16, 'NIGER-SEED':17,\n",
    " 'WHEAT(HUSKED)':18, 'WHEAT(UNHUSKED)':19, 'BARLI':20, 'Gram_Yellow':21, 'Masur_Yellow':22,\n",
    " 'MUSTARD':23, 'SAFFLOWER':24, 'Toria_Yellow':25, 'Copra (Milling)_Yellow':26,\n",
    " 'Copra (Ball)_Yellow':27, 'COCONUT':28, 'Jute_Yellow':29, 'SUGAR-CANE':30, 'SUGARCANE':31} ).astype(int)"
   ]
  },
  {
   "cell_type": "markdown",
   "metadata": {},
   "source": [
    "**Commodity Mapping:**\n",
    "    PADDY-UNHUSKED':0, 'RICE(PADDY-HUS)':1, 'Jowar_Hybrid':2, 'SORGUM(JAWAR)':3, 'BAJRI':4,\n",
    " 'MAIZE':5, 'Ragi_Maldandi': 6, 'PIGEON PEA (TUR)':7, 'SPILT GERRN GRAM':8,\n",
    " 'SPLIT BLACK GRAM':9, 'COTTON':10, 'Cotton_Long Staple':11, 'GR.NUT KERNELS':12,\n",
    " 'SUNFLOWER':13, 'Soyabean_Black':14, 'SOYABEAN':15, 'SESAMUM':16, 'NIGER-SEED':17,\n",
    " 'WHEAT(HUSKED)':18, 'WHEAT(UNHUSKED)':19, 'BARLI':20, 'Gram_Yellow':21, 'Masur_Yellow':22,\n",
    " 'MUSTARD':23, 'SAFFLOWER':24, 'Toria_Yellow':25, 'Copra (Milling)_Yellow':26,\n",
    " 'Copra (Ball)_Yellow':27, 'COCONUT':28, 'Jute_Yellow':29, 'SUGAR-CANE':30, 'SUGARCANE':31"
   ]
  },
  {
   "cell_type": "code",
   "execution_count": 13,
   "metadata": {},
   "outputs": [
    {
     "data": {
      "text/html": [
       "<div>\n",
       "<style scoped>\n",
       "    .dataframe tbody tr th:only-of-type {\n",
       "        vertical-align: middle;\n",
       "    }\n",
       "\n",
       "    .dataframe tbody tr th {\n",
       "        vertical-align: top;\n",
       "    }\n",
       "\n",
       "    .dataframe thead th {\n",
       "        text-align: right;\n",
       "    }\n",
       "</style>\n",
       "<table border=\"1\" class=\"dataframe\">\n",
       "  <thead>\n",
       "    <tr style=\"text-align: right;\">\n",
       "      <th></th>\n",
       "      <th>commodity</th>\n",
       "      <th>year</th>\n",
       "      <th>Type</th>\n",
       "      <th>msprice</th>\n",
       "      <th>msp_filter</th>\n",
       "    </tr>\n",
       "  </thead>\n",
       "  <tbody>\n",
       "    <tr>\n",
       "      <th>0</th>\n",
       "      <td>0</td>\n",
       "      <td>2012</td>\n",
       "      <td>2</td>\n",
       "      <td>1250.0</td>\n",
       "      <td>1</td>\n",
       "    </tr>\n",
       "    <tr>\n",
       "      <th>1</th>\n",
       "      <td>1</td>\n",
       "      <td>2012</td>\n",
       "      <td>2</td>\n",
       "      <td>1280.0</td>\n",
       "      <td>1</td>\n",
       "    </tr>\n",
       "    <tr>\n",
       "      <th>2</th>\n",
       "      <td>2</td>\n",
       "      <td>2012</td>\n",
       "      <td>2</td>\n",
       "      <td>1500.0</td>\n",
       "      <td>1</td>\n",
       "    </tr>\n",
       "    <tr>\n",
       "      <th>3</th>\n",
       "      <td>3</td>\n",
       "      <td>2012</td>\n",
       "      <td>2</td>\n",
       "      <td>1520.0</td>\n",
       "      <td>1</td>\n",
       "    </tr>\n",
       "    <tr>\n",
       "      <th>4</th>\n",
       "      <td>4</td>\n",
       "      <td>2012</td>\n",
       "      <td>2</td>\n",
       "      <td>1175.0</td>\n",
       "      <td>1</td>\n",
       "    </tr>\n",
       "    <tr>\n",
       "      <th>5</th>\n",
       "      <td>5</td>\n",
       "      <td>2012</td>\n",
       "      <td>2</td>\n",
       "      <td>1175.0</td>\n",
       "      <td>1</td>\n",
       "    </tr>\n",
       "    <tr>\n",
       "      <th>6</th>\n",
       "      <td>6</td>\n",
       "      <td>2012</td>\n",
       "      <td>2</td>\n",
       "      <td>1500.0</td>\n",
       "      <td>1</td>\n",
       "    </tr>\n",
       "    <tr>\n",
       "      <th>7</th>\n",
       "      <td>7</td>\n",
       "      <td>2012</td>\n",
       "      <td>2</td>\n",
       "      <td>3850.0</td>\n",
       "      <td>1</td>\n",
       "    </tr>\n",
       "    <tr>\n",
       "      <th>8</th>\n",
       "      <td>8</td>\n",
       "      <td>2012</td>\n",
       "      <td>2</td>\n",
       "      <td>4400.0</td>\n",
       "      <td>1</td>\n",
       "    </tr>\n",
       "    <tr>\n",
       "      <th>9</th>\n",
       "      <td>9</td>\n",
       "      <td>2012</td>\n",
       "      <td>2</td>\n",
       "      <td>4300.0</td>\n",
       "      <td>1</td>\n",
       "    </tr>\n",
       "  </tbody>\n",
       "</table>\n",
       "</div>"
      ],
      "text/plain": [
       "   commodity  year  Type  msprice  msp_filter\n",
       "0          0  2012     2   1250.0           1\n",
       "1          1  2012     2   1280.0           1\n",
       "2          2  2012     2   1500.0           1\n",
       "3          3  2012     2   1520.0           1\n",
       "4          4  2012     2   1175.0           1\n",
       "5          5  2012     2   1175.0           1\n",
       "6          6  2012     2   1500.0           1\n",
       "7          7  2012     2   3850.0           1\n",
       "8          8  2012     2   4400.0           1\n",
       "9          9  2012     2   4300.0           1"
      ]
     },
     "execution_count": 13,
     "metadata": {},
     "output_type": "execute_result"
    }
   ],
   "source": [
    "data.head(10)"
   ]
  },
  {
   "cell_type": "code",
   "execution_count": 14,
   "metadata": {},
   "outputs": [],
   "source": [
    "from sklearn.preprocessing import Imputer\n",
    "my_imputer = Imputer()\n",
    "data_re = my_imputer.fit_transform(data)"
   ]
  },
  {
   "cell_type": "code",
   "execution_count": 15,
   "metadata": {},
   "outputs": [],
   "source": [
    "data2 = pd.DataFrame(data_re)"
   ]
  },
  {
   "cell_type": "code",
   "execution_count": 16,
   "metadata": {},
   "outputs": [
    {
     "data": {
      "text/plain": [
       "False"
      ]
     },
     "execution_count": 16,
     "metadata": {},
     "output_type": "execute_result"
    }
   ],
   "source": [
    "data2.isnull().values.any()"
   ]
  },
  {
   "cell_type": "code",
   "execution_count": 17,
   "metadata": {},
   "outputs": [
    {
     "data": {
      "text/html": [
       "<div>\n",
       "<style scoped>\n",
       "    .dataframe tbody tr th:only-of-type {\n",
       "        vertical-align: middle;\n",
       "    }\n",
       "\n",
       "    .dataframe tbody tr th {\n",
       "        vertical-align: top;\n",
       "    }\n",
       "\n",
       "    .dataframe thead th {\n",
       "        text-align: right;\n",
       "    }\n",
       "</style>\n",
       "<table border=\"1\" class=\"dataframe\">\n",
       "  <thead>\n",
       "    <tr style=\"text-align: right;\">\n",
       "      <th></th>\n",
       "      <th>0</th>\n",
       "      <th>1</th>\n",
       "      <th>2</th>\n",
       "      <th>3</th>\n",
       "      <th>4</th>\n",
       "      <th>commodity</th>\n",
       "      <th>year</th>\n",
       "      <th>Type</th>\n",
       "      <th>msprice</th>\n",
       "      <th>msp_filter</th>\n",
       "    </tr>\n",
       "  </thead>\n",
       "  <tbody>\n",
       "    <tr>\n",
       "      <th>0</th>\n",
       "      <td>0.0</td>\n",
       "      <td>2012.0</td>\n",
       "      <td>2.0</td>\n",
       "      <td>1250.0</td>\n",
       "      <td>1.0</td>\n",
       "      <td>0.0</td>\n",
       "      <td>2012.0</td>\n",
       "      <td>2.0</td>\n",
       "      <td>1250.0</td>\n",
       "      <td>1.0</td>\n",
       "    </tr>\n",
       "    <tr>\n",
       "      <th>1</th>\n",
       "      <td>1.0</td>\n",
       "      <td>2012.0</td>\n",
       "      <td>2.0</td>\n",
       "      <td>1280.0</td>\n",
       "      <td>1.0</td>\n",
       "      <td>1.0</td>\n",
       "      <td>2012.0</td>\n",
       "      <td>2.0</td>\n",
       "      <td>1280.0</td>\n",
       "      <td>1.0</td>\n",
       "    </tr>\n",
       "    <tr>\n",
       "      <th>2</th>\n",
       "      <td>2.0</td>\n",
       "      <td>2012.0</td>\n",
       "      <td>2.0</td>\n",
       "      <td>1500.0</td>\n",
       "      <td>1.0</td>\n",
       "      <td>2.0</td>\n",
       "      <td>2012.0</td>\n",
       "      <td>2.0</td>\n",
       "      <td>1500.0</td>\n",
       "      <td>1.0</td>\n",
       "    </tr>\n",
       "    <tr>\n",
       "      <th>3</th>\n",
       "      <td>3.0</td>\n",
       "      <td>2012.0</td>\n",
       "      <td>2.0</td>\n",
       "      <td>1520.0</td>\n",
       "      <td>1.0</td>\n",
       "      <td>3.0</td>\n",
       "      <td>2012.0</td>\n",
       "      <td>2.0</td>\n",
       "      <td>1520.0</td>\n",
       "      <td>1.0</td>\n",
       "    </tr>\n",
       "    <tr>\n",
       "      <th>4</th>\n",
       "      <td>4.0</td>\n",
       "      <td>2012.0</td>\n",
       "      <td>2.0</td>\n",
       "      <td>1175.0</td>\n",
       "      <td>1.0</td>\n",
       "      <td>4.0</td>\n",
       "      <td>2012.0</td>\n",
       "      <td>2.0</td>\n",
       "      <td>1175.0</td>\n",
       "      <td>1.0</td>\n",
       "    </tr>\n",
       "  </tbody>\n",
       "</table>\n",
       "</div>"
      ],
      "text/plain": [
       "     0       1    2       3    4  commodity    year  Type  msprice  msp_filter\n",
       "0  0.0  2012.0  2.0  1250.0  1.0        0.0  2012.0   2.0   1250.0         1.0\n",
       "1  1.0  2012.0  2.0  1280.0  1.0        1.0  2012.0   2.0   1280.0         1.0\n",
       "2  2.0  2012.0  2.0  1500.0  1.0        2.0  2012.0   2.0   1500.0         1.0\n",
       "3  3.0  2012.0  2.0  1520.0  1.0        3.0  2012.0   2.0   1520.0         1.0\n",
       "4  4.0  2012.0  2.0  1175.0  1.0        4.0  2012.0   2.0   1175.0         1.0"
      ]
     },
     "execution_count": 17,
     "metadata": {},
     "output_type": "execute_result"
    }
   ],
   "source": [
    "data2[\"commodity\"] = data2[0]\n",
    "data2[\"year\"] = data2[1]\n",
    "data2[\"Type\"] = data2[2]\n",
    "data2[\"msprice\"] = data2[3]\n",
    "data2[\"msp_filter\"] = data2[4]\n",
    "data2.head()"
   ]
  },
  {
   "cell_type": "code",
   "execution_count": 18,
   "metadata": {},
   "outputs": [],
   "source": [
    "data2 = data2.drop([0, 1, 2, 3, 4], axis = 1)"
   ]
  },
  {
   "cell_type": "code",
   "execution_count": 19,
   "metadata": {},
   "outputs": [
    {
     "data": {
      "text/html": [
       "<div>\n",
       "<style scoped>\n",
       "    .dataframe tbody tr th:only-of-type {\n",
       "        vertical-align: middle;\n",
       "    }\n",
       "\n",
       "    .dataframe tbody tr th {\n",
       "        vertical-align: top;\n",
       "    }\n",
       "\n",
       "    .dataframe thead th {\n",
       "        text-align: right;\n",
       "    }\n",
       "</style>\n",
       "<table border=\"1\" class=\"dataframe\">\n",
       "  <thead>\n",
       "    <tr style=\"text-align: right;\">\n",
       "      <th></th>\n",
       "      <th>commodity</th>\n",
       "      <th>year</th>\n",
       "      <th>Type</th>\n",
       "      <th>msprice</th>\n",
       "      <th>msp_filter</th>\n",
       "    </tr>\n",
       "  </thead>\n",
       "  <tbody>\n",
       "    <tr>\n",
       "      <th>0</th>\n",
       "      <td>0.0</td>\n",
       "      <td>2012.0</td>\n",
       "      <td>2.0</td>\n",
       "      <td>1250.0</td>\n",
       "      <td>1.0</td>\n",
       "    </tr>\n",
       "    <tr>\n",
       "      <th>1</th>\n",
       "      <td>1.0</td>\n",
       "      <td>2012.0</td>\n",
       "      <td>2.0</td>\n",
       "      <td>1280.0</td>\n",
       "      <td>1.0</td>\n",
       "    </tr>\n",
       "    <tr>\n",
       "      <th>2</th>\n",
       "      <td>2.0</td>\n",
       "      <td>2012.0</td>\n",
       "      <td>2.0</td>\n",
       "      <td>1500.0</td>\n",
       "      <td>1.0</td>\n",
       "    </tr>\n",
       "    <tr>\n",
       "      <th>3</th>\n",
       "      <td>3.0</td>\n",
       "      <td>2012.0</td>\n",
       "      <td>2.0</td>\n",
       "      <td>1520.0</td>\n",
       "      <td>1.0</td>\n",
       "    </tr>\n",
       "    <tr>\n",
       "      <th>4</th>\n",
       "      <td>4.0</td>\n",
       "      <td>2012.0</td>\n",
       "      <td>2.0</td>\n",
       "      <td>1175.0</td>\n",
       "      <td>1.0</td>\n",
       "    </tr>\n",
       "  </tbody>\n",
       "</table>\n",
       "</div>"
      ],
      "text/plain": [
       "   commodity    year  Type  msprice  msp_filter\n",
       "0        0.0  2012.0   2.0   1250.0         1.0\n",
       "1        1.0  2012.0   2.0   1280.0         1.0\n",
       "2        2.0  2012.0   2.0   1500.0         1.0\n",
       "3        3.0  2012.0   2.0   1520.0         1.0\n",
       "4        4.0  2012.0   2.0   1175.0         1.0"
      ]
     },
     "execution_count": 19,
     "metadata": {},
     "output_type": "execute_result"
    }
   ],
   "source": [
    "data2.head()"
   ]
  },
  {
   "cell_type": "code",
   "execution_count": 20,
   "metadata": {},
   "outputs": [
    {
     "data": {
      "text/plain": [
       "<BarContainer object of 155 artists>"
      ]
     },
     "execution_count": 20,
     "metadata": {},
     "output_type": "execute_result"
    },
    {
     "data": {
      "image/png": "[encoded data removed]",
      "text/plain": [
       "<Figure size 432x288 with 1 Axes>"
      ]
     },
     "metadata": {},
     "output_type": "display_data"
    }
   ],
   "source": [
    "% matplotlib inline\n",
    "plt.xticks(np.arange(0, 32, 1), rotation=90)\n",
    "plt.bar(data2['commodity'], data2['msprice'])\n"
   ]
  },
  {
   "cell_type": "markdown",
   "metadata": {},
   "source": [
    "**Inferences**\n",
    "    Copra(Ball)_yellow: highest selling\n",
    "    Copra (Milling)_Yellow: second highest\n",
    "    SUGAR-CANE: Least selling\n",
    "    \n",
    "    "
   ]
  },
  {
   "cell_type": "code",
   "execution_count": 21,
   "metadata": {},
   "outputs": [
    {
     "data": {
      "text/plain": [
       "<BarContainer object of 155 artists>"
      ]
     },
     "execution_count": 21,
     "metadata": {},
     "output_type": "execute_result"
    },
    {
     "data": {
      "image/png": "[encoded data removed]",
      "text/plain": [
       "<Figure size 432x288 with 1 Axes>"
      ]
     },
     "metadata": {},
     "output_type": "display_data"
    }
   ],
   "source": [
    "plt.xticks(np.arange(0, 3, 1))\n",
    "plt.bar(data2['Type'], data2['msprice'])"
   ]
  },
  {
   "cell_type": "markdown",
   "metadata": {},
   "source": [
    "# Checking for outliers"
   ]
  },
  {
   "cell_type": "markdown",
   "metadata": {},
   "source": [
    "Other crops are selling high, Rabi next and kharif last."
   ]
  },
  {
   "cell_type": "code",
   "execution_count": 22,
   "metadata": {},
   "outputs": [
    {
     "data": {
      "text/plain": [
       "<matplotlib.collections.PathCollection at 0x7f46618e4ef0>"
      ]
     },
     "execution_count": 22,
     "metadata": {},
     "output_type": "execute_result"
    },
    {
     "data": {
      "image/png": "[encoded data removed]",
      "text/plain": [
       "<Figure size 432x288 with 1 Axes>"
      ]
     },
     "metadata": {},
     "output_type": "display_data"
    }
   ],
   "source": [
    "plt.xticks([2012, 2013, 2014, 2015, 2016], rotation = 90)\n",
    "plt.scatter(data2['year'], data2['msprice'])"
   ]
  },
  {
   "cell_type": "markdown",
   "metadata": {},
   "source": [
    "There are few outliers."
   ]
  },
  {
   "cell_type": "code",
   "execution_count": 23,
   "metadata": {},
   "outputs": [
    {
     "data": {
      "text/plain": [
       "<matplotlib.axes._subplots.AxesSubplot at 0x7f4661878a90>"
      ]
     },
     "execution_count": 23,
     "metadata": {},
     "output_type": "execute_result"
    },
    {
     "data": {
      "image/png": "[encoded data removed]",
      "text/plain": [
       "<Figure size 432x288 with 1 Axes>"
      ]
     },
     "metadata": {},
     "output_type": "display_data"
    }
   ],
   "source": [
    "'''plt.xticks(np.arange(0, 3, 1))\n",
    "plt.scatter(data2['Type'], data2['msprice'])'''\n",
    "import seaborn as sns\n",
    "sns.boxplot(x=data2['msprice'])"
   ]
  },
  {
   "cell_type": "code",
   "execution_count": 24,
   "metadata": {},
   "outputs": [
    {
     "name": "stdout",
     "output_type": "stream",
     "text": [
      "[ 1.13156176  1.10997323  0.95165731  0.93726496  1.1855331   1.1855331\n",
      "  0.95165731  0.73944451  1.13523429  1.06327251  0.55954006  0.7754254\n",
      "  0.63150184  0.63150184  0.44792486  0.41914014  0.99131073  0.48757828\n",
      "  1.05959998  1.05959998  1.32585857  0.12776938  0.0558076   0.12776938\n",
      "  0.01615418  0.10618085  1.63896675  1.8188712   1.02361909  0.44792486\n",
      "  1.90874898  1.08838469  1.06319807  0.95165731  0.93726496  1.08838469\n",
      "  1.08838469  0.95165731  1.06327251  1.20719607  1.06327251  0.63150184\n",
      "  0.84738718  0.84738718  0.63150184  0.23203952  0.18886245  1.20719607\n",
      "  0.48757828  1.02361909  1.02361909  1.23950443  0.19973116  0.09178849\n",
      "  0.16375027  0.12776938  0.14216174  1.74690942  1.92681387  1.00562865\n",
      "  0.37596308  1.87996427  1.0524038   1.02361909  0.93006878  0.91567642\n",
      "  1.13156176  1.08838469  0.91567642  1.0992534   1.27915785  1.0992534\n",
      "  0.66748273  0.88336806  0.84738718  0.66748273  0.23203952  0.18886245\n",
      "  1.27915785  0.55954006  0.9876382   0.9876382   1.20352354  0.25370249\n",
      "  0.18174071  0.19973116  0.16375027  0.14216174  1.74690942  1.92681387\n",
      "  1.00562865  0.3040013   1.87276809  1.01642291  0.9876382   0.90128407\n",
      "  0.88689171  1.11357132  1.07759043  0.84371464  1.15322474  1.31513874\n",
      "  1.15322474  0.70346362  0.91934895  0.86897571  0.70346362  0.\n",
      "  0.16007774  1.35111963  0.59552095  0.93366687  0.93366687  1.14955221\n",
      "  0.43360694  0.36164516  0.37963561  0.34365472  0.33645854  1.96279476\n",
      "  2.16428774  0.95165731  0.08811596  1.86557191  0.97324585  0.94446113\n",
      "  0.86170509  0.84371464  1.07399234  1.04880571  0.78974331  1.2971483\n",
      "  1.42308141  1.26116741  0.74664068  0.96252602  0.93374131  0.73944451\n",
      "  0.          0.1061064   1.42308141  0.64949228  0.          0.          0.\n",
      "  0.          0.          0.          0.          0.          2.25064187\n",
      "  2.45933104  0.87969553  0.27169294  1.86557191]\n"
     ]
    }
   ],
   "source": [
    "from scipy import stats\n",
    "import numpy as np\n",
    "z = np.abs(stats.zscore(data2['msprice']))\n",
    "print(z)"
   ]
  },
  {
   "cell_type": "code",
   "execution_count": 25,
   "metadata": {
    "scrolled": true
   },
   "outputs": [
    {
     "name": "stdout",
     "output_type": "stream",
     "text": [
      "3\n",
      "(array([], dtype=int64),)\n",
      "----------------------------------------\n",
      "2\n",
      "(array([120, 150, 151]),)\n",
      "----------------------------------------\n",
      "1\n",
      "(array([  0,   1,   4,   5,   8,   9,  18,  19,  20,  26,  27,  28,  30,\n",
      "        31,  32,  35,  36,  38,  39,  40,  47,  49,  50,  51,  57,  58,\n",
      "        59,  61,  62,  63,  66,  67,  69,  70,  71,  78,  82,  88,  89,\n",
      "        90,  92,  93,  97,  98, 100, 101, 102, 109, 113, 119, 120, 123,\n",
      "       128, 129, 131, 132, 133, 140, 150, 151, 154]),)\n",
      "----------------------------------------\n"
     ]
    }
   ],
   "source": [
    "threshold = [3, 2, 1]\n",
    "for i in threshold:\n",
    "    print(i)\n",
    "    print(np.where(z > i))\n",
    "    print('-'*40)"
   ]
  },
  {
   "cell_type": "markdown",
   "metadata": {},
   "source": [
    "#there are no outliers"
   ]
  },
  {
   "cell_type": "code",
   "execution_count": 26,
   "metadata": {},
   "outputs": [],
   "source": [
    "from sklearn.neighbors import LocalOutlierFactor"
   ]
  },
  {
   "cell_type": "code",
   "execution_count": 27,
   "metadata": {},
   "outputs": [],
   "source": [
    "X = data2.loc[:, 'commodity':'msprice':3]\n",
    "#X\n",
    "n_outliers = len(X)\n",
    "ground_truth = np.ones(len(X), dtype=int)\n",
    "ground_truth[-n_outliers:] = -1"
   ]
  },
  {
   "cell_type": "code",
   "execution_count": 28,
   "metadata": {},
   "outputs": [],
   "source": [
    "clf = LocalOutlierFactor()"
   ]
  },
  {
   "cell_type": "code",
   "execution_count": 29,
   "metadata": {},
   "outputs": [],
   "source": [
    "y_pred = clf.fit_predict(X)\n",
    "n_errors = (y_pred != ground_truth).sum()\n",
    "X_scores = clf.negative_outlier_factor_"
   ]
  },
  {
   "cell_type": "code",
   "execution_count": 30,
   "metadata": {},
   "outputs": [
    {
     "data": {
      "image/png": "[encoded data removed]",
      "text/plain": [
       "<Figure size 432x288 with 1 Axes>"
      ]
     },
     "metadata": {},
     "output_type": "display_data"
    }
   ],
   "source": [
    "'''y_pred\n",
    "X_scores'''\n",
    "\n",
    "plt.title(\"Local Outlier Factor (LOF)\")\n",
    "plt.scatter(X['commodity'], X['msprice'], color='k', s=3., label='Data points')\n",
    "# plot circles with radius proportional to the outlier scores\n",
    "radius = (X_scores.max() - X_scores) / (X_scores.max() - X_scores.min())\n",
    "plt.scatter(X['commodity'], X['msprice'], s=1000 * radius, edgecolors='r',\n",
    "            facecolors='none', label='Outlier scores')\n",
    "plt.axis('tight')\n",
    "plt.xlim((-5, 35))\n",
    "#plt.ylim((-10, 6.5e3))\n",
    "plt.xlabel(\"prediction errors: %d\" % (n_errors))\n",
    "legend = plt.legend(loc='upper left')\n",
    "legend.legendHandles[0]._sizes = [10]\n",
    "legend.legendHandles[1]._sizes = [20]\n",
    "plt.show()"
   ]
  },
  {
   "cell_type": "markdown",
   "metadata": {},
   "source": [
    "# Trends"
   ]
  },
  {
   "cell_type": "raw",
   "metadata": {},
   "source": [
    "0: Other_crops; 1: Rabi Crops; 2: Kharif Crops"
   ]
  },
  {
   "cell_type": "code",
   "execution_count": 31,
   "metadata": {},
   "outputs": [],
   "source": [
    "Rabi = data2.loc[data2['Type'] == 1]\n",
    "kharif = data2.loc[data2['Type'] == 2]\n",
    "other = data2.loc[data2['Type'] == 0]"
   ]
  },
  {
   "cell_type": "code",
   "execution_count": 32,
   "metadata": {},
   "outputs": [],
   "source": [
    "y1 = Rabi.groupby('year')['msprice'].mean()\n",
    "y2 = other.groupby('year')['msprice'].mean()\n",
    "y0 = other.groupby('year')['msprice'].mean()"
   ]
  },
  {
   "cell_type": "code",
   "execution_count": 45,
   "metadata": {},
   "outputs": [],
   "source": [
    "#X = data2['year']\n",
    "#fig = plt.figure()\n",
    "#ax = fig.add_subplot(1, 1, 1)"
   ]
  },
  {
   "cell_type": "code",
   "execution_count": 49,
   "metadata": {},
   "outputs": [
    {
     "data": {
      "text/plain": [
       "<matplotlib.legend.Legend at 0x7f466108a828>"
      ]
     },
     "execution_count": 49,
     "metadata": {},
     "output_type": "execute_result"
    },
    {
     "data": {
      "image/png": "[encoded data removed]",
      "text/plain": [
       "<Figure size 432x288 with 1 Axes>"
      ]
     },
     "metadata": {},
     "output_type": "display_data"
    }
   ],
   "source": [
    "plt.xticks([2012, 2013, 2014, 2015, 2016])\n",
    "plt.plot(y1,  'r', label = 'rabi')\n",
    "#plt.plot(y0, 'b')\n",
    "plt.plot(y2, 'g', label = 'kharif')\n",
    "plt.legend()"
   ]
  },
  {
   "cell_type": "code",
   "execution_count": 50,
   "metadata": {},
   "outputs": [
    {
     "data": {
      "text/plain": [
       "\"plt.plot(y1, 'r')\\nplt.plot(y2, 'g')\""
      ]
     },
     "execution_count": 50,
     "metadata": {},
     "output_type": "execute_result"
    },
    {
     "data": {
      "image/png": "[encoded data removed]",
      "text/plain": [
       "<Figure size 432x288 with 1 Axes>"
      ]
     },
     "metadata": {},
     "output_type": "display_data"
    }
   ],
   "source": [
    "plt.xticks([2012, 2013, 2014, 2015, 2016])\n",
    "plt.plot(y0, 'b', label = 'other')\n",
    "plt.legend()\n",
    "\"\"\"plt.plot(y1, 'r')\n",
    "plt.plot(y2, 'g')\"\"\""
   ]
  },
  {
   "cell_type": "code",
   "execution_count": 36,
   "metadata": {},
   "outputs": [
    {
     "data": {
      "text/plain": [
       "<seaborn.axisgrid.FacetGrid at 0x7f46616fa6d8>"
      ]
     },
     "execution_count": 36,
     "metadata": {},
     "output_type": "execute_result"
    },
    {
     "data": {
      "image/png": "[encoded data removed]",
      "text/plain": [
       "<Figure size 267.875x216 with 1 Axes>"
      ]
     },
     "metadata": {},
     "output_type": "display_data"
    }
   ],
   "source": [
    "import seaborn as sns\n",
    "g = sns.FacetGrid(data2, hue=\"Type\", hue_kws={\"marker\": [\"^\", \"v\", \"o\"]})\n",
    "g.map(plt.scatter, \"year\", \"msprice\", s=100, linewidth=.5, edgecolor=\"white\")\n",
    "g.add_legend()"
   ]
  },
  {
   "cell_type": "raw",
   "metadata": {},
   "source": [
    "Other crops generally had higher prices than kharif and rabi crop in same order but these too had few xceptions too (outliers)."
   ]
  },
  {
   "cell_type": "markdown",
   "metadata": {},
   "source": [
    "# Feature Importance"
   ]
  },
  {
   "cell_type": "markdown",
   "metadata": {},
   "source": []
  },
  {
   "cell_type": "code",
   "execution_count": null,
   "metadata": {},
   "outputs": [],
   "source": []
  }
 ],
 "metadata": {
  "kernelspec": {
   "display_name": "Python 3",
   "language": "python",
   "name": "python3"
  },
  "language_info": {
   "codemirror_mode": {
    "name": "ipython",
    "version": 3
   },
   "file_extension": ".py",
   "mimetype": "text/x-python",
   "name": "python",
   "nbconvert_exporter": "python",
   "pygments_lexer": "ipython3",
   "version": "3.6.4"
  }
 },
 "nbformat": 4,
 "nbformat_minor": 2
}
